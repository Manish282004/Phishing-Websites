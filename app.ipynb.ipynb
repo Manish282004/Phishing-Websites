{
 "cells": [
  {
   "cell_type": "code",
   "execution_count": null,
   "id": "b96461e3",
   "metadata": {},
   "outputs": [],
   "source": [
    "import nest_asyncio\n",
    "nest_asyncio.apply()\n",
    "import uvicorn\n",
    "from fastapi import FastAPI\n",
    "import joblib,os\n",
    "\n",
    "app = FastAPI()\n",
    "\n",
    "#pkl\n",
    "phish_model = open('phishing.pkl','rb')\n",
    "phish_model_ls = joblib.load(phish_model)\n",
    "# ML Aspect\n",
    "@app.get('/predict/{feature}')\n",
    "async def predict(features):\n",
    "\tX_predict = []\n",
    "\tX_predict.append(str(features))\n",
    "\ty_Predict = phish_model_ls.predict(X_predict)\n",
    "\tif y_Predict == 'bad':\n",
    "\t\tresult = \"This is a Phishing Site\"\n",
    "\telse:\n",
    "\t\tresult = \"This is not a Phishing Site\"\n",
    "\n",
    "\treturn (features, result)\n",
    "if __name__ == '__main__':\n",
    "\tuvicorn.run(app,host=\"127.0.0.1\",port=8000)"
   ]
  }
 ],
 "metadata": {
  "kernelspec": {
   "display_name": "Python 3",
   "language": "python",
   "name": "python3"
  },
  "language_info": {
   "codemirror_mode": {
    "name": "ipython",
    "version": 3
   },
   "file_extension": ".py",
   "mimetype": "text/x-python",
   "name": "python",
   "nbconvert_exporter": "python",
   "pygments_lexer": "ipython3",
   "version": "3.8.8"
  }
 },
 "nbformat": 4,
 "nbformat_minor": 5
}
